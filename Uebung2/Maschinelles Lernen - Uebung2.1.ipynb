{
 "metadata": {
  "name": "",
  "signature": "sha256:6b2f1f31c845ba09139193a6d2285888a9c884452f3f527ace63b847418a1563"
 },
 "nbformat": 3,
 "nbformat_minor": 0,
 "worksheets": [
  {
   "cells": [
    {
     "cell_type": "markdown",
     "metadata": {},
     "source": [
      "#Maschinelles Lernen WS2014\n",
      " - arkostka\n",
      " - maherman\n",
      " \n",
      "## \u00dcbung 2"
     ]
    },
    {
     "cell_type": "code",
     "collapsed": false,
     "input": [
      "import pandas as pd\n",
      "import numpy as np\n",
      "import MyPCA as pca\n",
      "import scipy\n",
      "%install_ext http://raw.github.com/jrjohansson/version_information/master/version_information.py\n",
      "%load_ext version_information"
     ],
     "language": "python",
     "metadata": {},
     "outputs": [
      {
       "output_type": "stream",
       "stream": "stdout",
       "text": [
        "Installed version_information.py. To use it, type:\n",
        "  %load_ext version_information\n"
       ]
      }
     ],
     "prompt_number": 4
    },
    {
     "cell_type": "markdown",
     "metadata": {},
     "source": [
      "### 1. Implementierung der Hauptkomponentenanalyse\n",
      "#### 1.1 n-dimensionale Datenpunkte"
     ]
    },
    {
     "cell_type": "markdown",
     "metadata": {},
     "source": [
      "Download der Daten von Bosten Housing"
     ]
    },
    {
     "cell_type": "code",
     "collapsed": false,
     "input": [
      "url = \"https://archive.ics.uci.edu/ml/machine-learning-databases/housing/housing.data\"\n",
      "cols = [\"CRIM\",\"ZN\",\"INDUS\",\"CHAS\",\"NOX\",\"RM\",\"AGE\",\"DIS\",\"RAD\",\"TAX\",\"PTRATIO\",\"B\",\n",
      "\"LSTAT\",\"TGT\"]\n",
      "boston = pd.read_csv (url , sep=\" \", skipinitialspace =True , header =None ,\n",
      "names =cols , index_col = False )\n",
      "dateDownloaded = !date\n",
      "dateDownloaded[0]"
     ],
     "language": "python",
     "metadata": {},
     "outputs": [
      {
       "metadata": {},
       "output_type": "pyout",
       "prompt_number": 5,
       "text": [
        "'The current date is: Mon 11/10/2014 '"
       ]
      }
     ],
     "prompt_number": 5
    },
    {
     "cell_type": "markdown",
     "metadata": {},
     "source": [
      "Pandas DataFrame als Matrix speichern"
     ]
    },
    {
     "cell_type": "code",
     "collapsed": false,
     "input": [
      "matrix = boston.as_matrix()\n",
      "matrix.shape"
     ],
     "language": "python",
     "metadata": {},
     "outputs": [
      {
       "metadata": {},
       "output_type": "pyout",
       "prompt_number": 6,
       "text": [
        "(506, 14)"
       ]
      }
     ],
     "prompt_number": 6
    },
    {
     "cell_type": "markdown",
     "metadata": {},
     "source": [
      "### Durchf\u00fchrung der Hauptkomponentenanalyse"
     ]
    },
    {
     "cell_type": "code",
     "collapsed": false,
     "input": [
      "reload(pca)\n",
      "U,S,VT = pca.calcPCA(matrix,-1)\n",
      "print U.shape\n",
      "print S.shape\n",
      "print VT.shape"
     ],
     "language": "python",
     "metadata": {},
     "outputs": [
      {
       "output_type": "stream",
       "stream": "stdout",
       "text": [
        "(506, 506)\n",
        "(506, 14)\n",
        "(506, 506)\n"
       ]
      }
     ],
     "prompt_number": 38
    },
    {
     "cell_type": "markdown",
     "metadata": {},
     "source": [
      "#### 1.4 Eigenwerte der Kovarianzmatrix\n",
      "Mt * M = KovMatrix = VDtUt * UDVt = V(DtD)Vt\n",
      "1. 25% Fehler: Nur erste Hauptkomponente ben\u00f6tigt\n",
      "2. 10% Fehler: Die ersten beiden Hauptkomponenten ben\u00f6tigt\n",
      "3. 5% Fehler: Nur die ersten beiden Hauptkomponenten ben\u00f6tigt"
     ]
    },
    {
     "cell_type": "code",
     "collapsed": false,
     "input": [
      "Variance = np.diag(S*S)\n",
      "TotalVariance = sum(Variance)\n",
      "Percentage = Variance / TotalVariance * 100\n",
      "tempSum = 0\n",
      "Commulated = []\n",
      "for n in Percentage:\n",
      "    tempSum = tempSum + n\n",
      "    Commulated.append(tempSum)\n",
      "data = np.array([Variance,Percentage,Commulated])\n",
      "df = pd.DataFrame(data)\n",
      "df.index = ['Variance','Percentage','Commulated']\n",
      "df\n"
     ],
     "language": "python",
     "metadata": {},
     "outputs": [
      {
       "html": [
        "<div style=\"max-height:1000px;max-width:1500px;overflow:auto;\">\n",
        "<table border=\"1\" class=\"dataframe\">\n",
        "  <thead>\n",
        "    <tr style=\"text-align: right;\">\n",
        "      <th></th>\n",
        "      <th>0</th>\n",
        "      <th>1</th>\n",
        "      <th>2</th>\n",
        "      <th>3</th>\n",
        "      <th>4</th>\n",
        "      <th>5</th>\n",
        "      <th>6</th>\n",
        "      <th>7</th>\n",
        "      <th>8</th>\n",
        "      <th>9</th>\n",
        "      <th>10</th>\n",
        "      <th>11</th>\n",
        "      <th>12</th>\n",
        "      <th>13</th>\n",
        "    </tr>\n",
        "  </thead>\n",
        "  <tbody>\n",
        "    <tr>\n",
        "      <th>Variance</th>\n",
        "      <td> 14924247.283604</td>\n",
        "      <td> 2778401.496974</td>\n",
        "      <td> 414763.231278</td>\n",
        "      <td> 111679.827116</td>\n",
        "      <td> 38904.973965</td>\n",
        "      <td> 20777.327973</td>\n",
        "      <td> 8257.930537</td>\n",
        "      <td> 5786.075385</td>\n",
        "      <td> 3768.216761</td>\n",
        "      <td> 1068.111632</td>\n",
        "      <td> 393.074805</td>\n",
        "      <td> 78.898971</td>\n",
        "      <td>  14.260261</td>\n",
        "      <td> 3.849561e-25</td>\n",
        "    </tr>\n",
        "    <tr>\n",
        "      <th>Percentage</th>\n",
        "      <td>       81.517001</td>\n",
        "      <td>      15.175771</td>\n",
        "      <td>      2.265458</td>\n",
        "      <td>      0.610001</td>\n",
        "      <td>     0.212501</td>\n",
        "      <td>     0.113487</td>\n",
        "      <td>    0.045105</td>\n",
        "      <td>    0.031604</td>\n",
        "      <td>    0.020582</td>\n",
        "      <td>    0.005834</td>\n",
        "      <td>   0.002147</td>\n",
        "      <td>  0.000431</td>\n",
        "      <td>   0.000078</td>\n",
        "      <td> 2.102650e-30</td>\n",
        "    </tr>\n",
        "    <tr>\n",
        "      <th>Commulated</th>\n",
        "      <td>       81.517001</td>\n",
        "      <td>      96.692772</td>\n",
        "      <td>     98.958230</td>\n",
        "      <td>     99.568231</td>\n",
        "      <td>    99.780732</td>\n",
        "      <td>    99.894219</td>\n",
        "      <td>   99.939324</td>\n",
        "      <td>   99.970928</td>\n",
        "      <td>   99.991510</td>\n",
        "      <td>   99.997344</td>\n",
        "      <td>  99.999491</td>\n",
        "      <td> 99.999922</td>\n",
        "      <td> 100.000000</td>\n",
        "      <td> 1.000000e+02</td>\n",
        "    </tr>\n",
        "  </tbody>\n",
        "</table>\n",
        "<p>3 rows \u00d7 14 columns</p>\n",
        "</div>"
       ],
       "metadata": {},
       "output_type": "pyout",
       "prompt_number": 40,
       "text": [
        "                         0               1              2              3   \\\n",
        "Variance    14924247.283604  2778401.496974  414763.231278  111679.827116   \n",
        "Percentage        81.517001       15.175771       2.265458       0.610001   \n",
        "Commulated        81.517001       96.692772      98.958230      99.568231   \n",
        "\n",
        "                      4             5            6            7            8   \\\n",
        "Variance    38904.973965  20777.327973  8257.930537  5786.075385  3768.216761   \n",
        "Percentage      0.212501      0.113487     0.045105     0.031604     0.020582   \n",
        "Commulated     99.780732     99.894219    99.939324    99.970928    99.991510   \n",
        "\n",
        "                     9           10         11          12            13  \n",
        "Variance    1068.111632  393.074805  78.898971   14.260261  3.849561e-25  \n",
        "Percentage     0.005834    0.002147   0.000431    0.000078  2.102650e-30  \n",
        "Commulated    99.997344   99.999491  99.999922  100.000000  1.000000e+02  \n",
        "\n",
        "[3 rows x 14 columns]"
       ]
      }
     ],
     "prompt_number": 40
    },
    {
     "cell_type": "markdown",
     "metadata": {},
     "source": [
      "#### 1.5 Rekonstruktion der Daten mit drei Hauptkomponenten"
     ]
    },
    {
     "cell_type": "code",
     "collapsed": false,
     "input": [
      "components = 3\n",
      "result = pca.calcPCA(matrix,components)\n",
      "U,S,VT = result\n",
      "threeComponents = np.dot(U,S)[:,0:components]\n",
      "pd.DataFrame(threeComponents).head()"
     ],
     "language": "python",
     "metadata": {},
     "outputs": [
      {
       "html": [
        "<div style=\"max-height:1000px;max-width:1500px;overflow:auto;\">\n",
        "<table border=\"1\" class=\"dataframe\">\n",
        "  <thead>\n",
        "    <tr style=\"text-align: right;\">\n",
        "      <th></th>\n",
        "      <th>0</th>\n",
        "      <th>1</th>\n",
        "      <th>2</th>\n",
        "    </tr>\n",
        "  </thead>\n",
        "  <tbody>\n",
        "    <tr>\n",
        "      <th>0</th>\n",
        "      <td>-116.984869</td>\n",
        "      <td> -4.086338</td>\n",
        "      <td> -3.324497</td>\n",
        "    </tr>\n",
        "    <tr>\n",
        "      <th>1</th>\n",
        "      <td>-164.065638</td>\n",
        "      <td> 12.661701</td>\n",
        "      <td>-31.015379</td>\n",
        "    </tr>\n",
        "    <tr>\n",
        "      <th>2</th>\n",
        "      <td>-164.015362</td>\n",
        "      <td> 15.396399</td>\n",
        "      <td>-16.211779</td>\n",
        "    </tr>\n",
        "    <tr>\n",
        "      <th>3</th>\n",
        "      <td>-183.120195</td>\n",
        "      <td> 18.023942</td>\n",
        "      <td> -6.386118</td>\n",
        "    </tr>\n",
        "    <tr>\n",
        "      <th>4</th>\n",
        "      <td>-184.045727</td>\n",
        "      <td> 17.325507</td>\n",
        "      <td>-12.610722</td>\n",
        "    </tr>\n",
        "  </tbody>\n",
        "</table>\n",
        "<p>5 rows \u00d7 3 columns</p>\n",
        "</div>"
       ],
       "metadata": {},
       "output_type": "pyout",
       "prompt_number": 59,
       "text": [
        "            0          1          2\n",
        "0 -116.984869  -4.086338  -3.324497\n",
        "1 -164.065638  12.661701 -31.015379\n",
        "2 -164.015362  15.396399 -16.211779\n",
        "3 -183.120195  18.023942  -6.386118\n",
        "4 -184.045727  17.325507 -12.610722\n",
        "\n",
        "[5 rows x 3 columns]"
       ]
      }
     ],
     "prompt_number": 59
    },
    {
     "cell_type": "markdown",
     "metadata": {},
     "source": [
      "#### 1.6 Korrelationskoeffizient der ersten drei Hauptkomponenten\n",
      "Liegt bei 0, da die Hauptkomponenten gerade die Komponenten mit maximaler Varianz sind und die Punkte auf diese Komponenten projeziert wurden"
     ]
    },
    {
     "cell_type": "code",
     "collapsed": false,
     "input": [
      "DFThreeComponents = pd.DataFrame(threeComponents)\n",
      "DFThreeComponents.corr(method='pearson', min_periods=1)"
     ],
     "language": "python",
     "metadata": {},
     "outputs": [
      {
       "html": [
        "<div style=\"max-height:1000px;max-width:1500px;overflow:auto;\">\n",
        "<table border=\"1\" class=\"dataframe\">\n",
        "  <thead>\n",
        "    <tr style=\"text-align: right;\">\n",
        "      <th></th>\n",
        "      <th>0</th>\n",
        "      <th>1</th>\n",
        "      <th>2</th>\n",
        "    </tr>\n",
        "  </thead>\n",
        "  <tbody>\n",
        "    <tr>\n",
        "      <th>0</th>\n",
        "      <td> 1.000000e+00</td>\n",
        "      <td> 3.467432e-16</td>\n",
        "      <td> 2.076358e-16</td>\n",
        "    </tr>\n",
        "    <tr>\n",
        "      <th>1</th>\n",
        "      <td> 3.467432e-16</td>\n",
        "      <td> 1.000000e+00</td>\n",
        "      <td> 2.462269e-17</td>\n",
        "    </tr>\n",
        "    <tr>\n",
        "      <th>2</th>\n",
        "      <td> 2.076358e-16</td>\n",
        "      <td> 2.462269e-17</td>\n",
        "      <td> 1.000000e+00</td>\n",
        "    </tr>\n",
        "  </tbody>\n",
        "</table>\n",
        "<p>3 rows \u00d7 3 columns</p>\n",
        "</div>"
       ],
       "metadata": {},
       "output_type": "pyout",
       "prompt_number": 60,
       "text": [
        "              0             1             2\n",
        "0  1.000000e+00  3.467432e-16  2.076358e-16\n",
        "1  3.467432e-16  1.000000e+00  2.462269e-17\n",
        "2  2.076358e-16  2.462269e-17  1.000000e+00\n",
        "\n",
        "[3 rows x 3 columns]"
       ]
      }
     ],
     "prompt_number": 60
    },
    {
     "cell_type": "markdown",
     "metadata": {},
     "source": [
      "#### 1.7 Ersten 2 Hauptkomponenten als ScatterPlot"
     ]
    },
    {
     "cell_type": "markdown",
     "metadata": {},
     "source": [
      "Bilde zwei Masken f\u00fcr Median"
     ]
    },
    {
     "cell_type": "code",
     "collapsed": false,
     "input": [
      "medianPrice = boston['TGT'].describe()['50%']\n",
      "prices = np.array(boston['TGT'])\n",
      "mask = prices > medianPrice\n",
      "mask2 = prices < medianPrice"
     ],
     "language": "python",
     "metadata": {},
     "outputs": [],
     "prompt_number": 46
    },
    {
     "cell_type": "markdown",
     "metadata": {},
     "source": [
      "Da die Datenpunkte mit Hauspreis \u00fcber Median und die unter Median auf den beiden Hauptkomponenten nahezu identisch verteilt sind, l\u00e4sst sich mit den Hauptkomponenten keine Aussage \u00fcber den Hauspreis treffen."
     ]
    },
    {
     "cell_type": "code",
     "collapsed": false,
     "input": [
      "components = 2\n",
      "result = pca.calcPCA(matrix,components)\n",
      "U,S,VT = result\n",
      "twoComponents = np.dot(U,S)[:,0:components]\n",
      "df = pd.DataFrame(twoComponents)\n",
      "df.head()"
     ],
     "language": "python",
     "metadata": {},
     "outputs": [
      {
       "html": [
        "<div style=\"max-height:1000px;max-width:1500px;overflow:auto;\">\n",
        "<table border=\"1\" class=\"dataframe\">\n",
        "  <thead>\n",
        "    <tr style=\"text-align: right;\">\n",
        "      <th></th>\n",
        "      <th>0</th>\n",
        "      <th>1</th>\n",
        "    </tr>\n",
        "  </thead>\n",
        "  <tbody>\n",
        "    <tr>\n",
        "      <th>0</th>\n",
        "      <td>-116.984869</td>\n",
        "      <td> -4.086338</td>\n",
        "    </tr>\n",
        "    <tr>\n",
        "      <th>1</th>\n",
        "      <td>-164.065638</td>\n",
        "      <td> 12.661701</td>\n",
        "    </tr>\n",
        "    <tr>\n",
        "      <th>2</th>\n",
        "      <td>-164.015362</td>\n",
        "      <td> 15.396399</td>\n",
        "    </tr>\n",
        "    <tr>\n",
        "      <th>3</th>\n",
        "      <td>-183.120195</td>\n",
        "      <td> 18.023942</td>\n",
        "    </tr>\n",
        "    <tr>\n",
        "      <th>4</th>\n",
        "      <td>-184.045727</td>\n",
        "      <td> 17.325507</td>\n",
        "    </tr>\n",
        "  </tbody>\n",
        "</table>\n",
        "<p>5 rows \u00d7 2 columns</p>\n",
        "</div>"
       ],
       "metadata": {},
       "output_type": "pyout",
       "prompt_number": 61,
       "text": [
        "            0          1\n",
        "0 -116.984869  -4.086338\n",
        "1 -164.065638  12.661701\n",
        "2 -164.015362  15.396399\n",
        "3 -183.120195  18.023942\n",
        "4 -184.045727  17.325507\n",
        "\n",
        "[5 rows x 2 columns]"
       ]
      }
     ],
     "prompt_number": 61
    },
    {
     "cell_type": "code",
     "collapsed": false,
     "input": [
      "ax = df[mask].plot(kind='scatter', x=0, y=1,color='Yellow', label='Greater as median');\n",
      "df[mask2].plot(kind='scatter', x=0, y=1, color='DarkRed', label='Smaller as median', ax=ax);"
     ],
     "language": "python",
     "metadata": {},
     "outputs": [
      {
       "metadata": {},
       "output_type": "display_data",
       "png": "[encoded data removed]",
       "text": [
        "<matplotlib.figure.Figure at 0x98bf4d0>"
       ]
      }
     ],
     "prompt_number": 62
    },
    {
     "cell_type": "code",
     "collapsed": false,
     "input": [
      "%version_information numpy pandas"
     ],
     "language": "python",
     "metadata": {},
     "outputs": [
      {
       "html": [
        "<table><tr><th>Software</th><th>Version</th></tr><tr><td>Python</td><td>2.7.6 32bit [MSC v.1500 32 bit (Intel)]</td></tr><tr><td>IPython</td><td>2.1.0</td></tr><tr><td>OS</td><td>Windows 7 6.1.7601 SP1</td></tr><tr><td>numpypandas</td><td>numpypandas</td></tr><tr><td colspan='2'>Wed Nov 05 12:24:59 2014 Mitteleurop\u00e4ische Zeit</td></tr></table>"
       ],
       "json": [
        "{\"Software versions\": [{\"version\": \"2.7.6 32bit [MSC v.1500 32 bit (Intel)]\", \"module\": \"Python\"}, {\"version\": \"2.1.0\", \"module\": \"IPython\"}, {\"version\": \"Windows 7 6.1.7601 SP1\", \"module\": \"OS\"}, {\"version\": \"numpypandas\", \"module\": \"numpypandas\"}]}"
       ],
       "latex": [
        "\\begin{tabular}{|l|l|}\\hline\n",
        "{\\bf Software} & {\\bf Version} \\\\ \\hline\\hline\n",
        "Python & 2.7.6 32bit [MSC v.1500 32 bit (Intel)] \\\\ \\hline\n",
        "IPython & 2.1.0 \\\\ \\hline\n",
        "OS & Windows 7 6.1.7601 SP1 \\\\ \\hline\n",
        "numpypandas & numpypandas \\\\ \\hline\n",
        "\\hline \\multicolumn{2}{|l|}{Wed Nov 05 12:24:59 2014 Mitteleurop\u00e4ische Zeit} \\\\ \\hline\n",
        "\\end{tabular}\n"
       ],
       "metadata": {},
       "output_type": "pyout",
       "prompt_number": 7,
       "text": [
        "Software versions\n",
        "Python 2.7.6 32bit [MSC v.1500 32 bit (Intel)]\n",
        "IPython 2.1.0\n",
        "OS Windows 7 6.1.7601 SP1\n",
        "numpypandas numpypandas\n",
        "Wed Nov 05 12:24:59 2014 Mitteleurop\u00e4ische Zeit"
       ]
      }
     ],
     "prompt_number": 7
    },
    {
     "cell_type": "code",
     "collapsed": false,
     "input": [],
     "language": "python",
     "metadata": {},
     "outputs": []
    }
   ],
   "metadata": {}
  }
 ]
}