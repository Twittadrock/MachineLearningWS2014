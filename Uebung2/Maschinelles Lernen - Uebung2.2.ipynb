{
 "metadata": {
  "name": "",
  "signature": "sha256:6b2f1f31c845ba09139193a6d2285888a9c884452f3f527ace63b847418a1563"
 },
 "nbformat": 3,
 "nbformat_minor": 0,
 "worksheets": [
  {
   "cells": [
    {
     "cell_type": "markdown",
     "metadata": {},
     "source": [
      "#Maschinelles Lernen WS2014\n",
      " - arkostka\n",
      " - maherman\n",
      " \n",
      "## \u00dcbung 2"
     ]
    },
    {
     "cell_type": "code",
     "collapsed": false,
     "input": [
      "import pandas as pd\n",
      "import numpy as np\n",
      "import MyPCA as pca\n",
      "import scipy\n",
      "%install_ext http://raw.github.com/jrjohansson/version_information/master/version_information.py\n",
      "%load_ext version_information"
     ],
     "language": "python",
     "metadata": {},
     "outputs": [
      {
       "output_type": "stream",
       "stream": "stdout",
       "text": [
        "Installed version_information.py. To use it, type:\n",
        "  %load_ext version_information\n"
       ]
      }
     ],
     "prompt_number": 1
    },
    {
     "cell_type": "code",
     "collapsed": false,
     "input": [
      "from PCAEigengesichter import Eigengesichter\n",
      "eg = Eigengesichter()\n",
      "eg.doPCA()"
     ],
     "language": "python",
     "metadata": {},
     "outputs": [],
     "prompt_number": 2
    },
    {
     "cell_type": "code",
     "collapsed": false,
     "input": [
      "eg.doEigenwerte()"
     ],
     "language": "python",
     "metadata": {},
     "outputs": [
      {
       "output_type": "stream",
       "stream": "stdout",
       "text": [
        "0 144.828943017\n",
        "1 68.1049690689\n",
        "2 66.0115798053\n",
        "3 59.936223242\n",
        "4 52.037259125\n",
        "5 49.2661814341\n",
        "6 45.2779536157\n",
        "7 41.2777235146\n",
        "8 39.4474364868\n",
        "9 37.8507889722\n",
        "10 35.603634091\n",
        "11 34.1925566116\n",
        "12 32.6345813499\n",
        "13 31.8888699955\n",
        "14 30.8149776447\n",
        "15 28.9103475143\n",
        "16 27.9340375631\n",
        "17 26.6109940058\n",
        "18 25.8347365949\n",
        "19 25.1388498882\n",
        "20 24.5830948228\n",
        "21 24.036271225\n",
        "22 23.8871494899\n",
        "23 22.5132933724\n",
        "24 22.1524479319\n",
        "25 21.5184461527\n",
        "26 21.0842284336\n",
        "27 20.7180981091\n",
        "28 19.8727292113\n",
        "29 19.6632558553\n",
        "30 19.2785240659\n",
        "31 18.7607163043\n",
        "32 18.4719318655\n",
        "33 18.0223130321\n",
        "34 17.6557536733\n",
        "35 17.5567399576\n",
        "36 17.5385838581\n",
        "37 17.0056248636\n",
        "38 16.6961695855\n",
        "39 16.3980229356\n",
        "40 16.0846996731\n",
        "41 15.9881176879\n",
        "42 15.7778106965\n",
        "43 15.5892951953\n",
        "44 15.3522456686\n",
        "45 14.8714987392\n",
        "46 14.7183640255\n",
        "47 14.623574197\n",
        "48 14.4269351988\n",
        "49 14.3306321451\n",
        "50 13.9811237073\n",
        "51 13.9295497694\n",
        "52 13.7660425121\n",
        "53 13.6767359191\n",
        "54 13.4922844497\n",
        "55 13.2658481637\n",
        "56 13.0934509732\n",
        "57 12.9984493644\n",
        "58 12.952869715\n",
        "59 12.8600718545\n",
        "60 12.7970956722\n",
        "61 12.6616804102\n",
        "62 12.4618949243\n",
        "63 12.4201023336\n",
        "64 12.2711686793\n",
        "65 12.1539848032\n",
        "66 12.0673479769\n",
        "67 11.8081085071\n",
        "68 11.6928169392\n",
        "69 11.6256439259\n",
        "70 11.4292032708\n",
        "71 11.3847958216\n",
        "72 11.251473564\n",
        "73 11.2093238823\n",
        "74 11.1376342794\n",
        "75 11.0483854772\n",
        "76 10.9896398753\n",
        "77 10.9489335953\n",
        "78 10.7914073488\n",
        "79 10.6789028273\n",
        "80 10.62372309\n",
        "81 10.4857632538\n",
        "82 10.4433618002\n",
        "83 10.3599944622\n",
        "84 10.1809146429\n",
        "85 10.1525490593\n",
        "86 10.0872155573\n",
        "87 10.003862561\n",
        "88 9.93706344877\n",
        "89 9.84541496343\n",
        "90 9.82805719394\n",
        "91 9.75818987801\n",
        "92 9.70254226072\n",
        "93 9.67204973524\n",
        "94 9.61652999744\n",
        "95 9.56767937781\n",
        "96 9.46084930725\n",
        "97 9.40453269294\n",
        "98 9.32720768807\n",
        "99 9.20163937049\n",
        "100 9.12012400466\n",
        "101 9.04434744795\n",
        "102 9.01376179514\n",
        "103 8.98247589083\n",
        "104 8.89369680076\n",
        "105 8.86867492812\n",
        "106 8.77915564124\n",
        "107 8.77142858907\n",
        "108 8.72444994227\n",
        "109 8.66546124194\n",
        "110 8.60278835563\n",
        "111 8.56440008779\n",
        "112 8.47797982622\n",
        "113 8.45580327844\n",
        "114 8.4362227924\n",
        "115 8.35587308829\n",
        "116 8.33072692105\n",
        "117 8.31855298247\n",
        "118 8.24177962443\n",
        "119 8.18255122224\n",
        "120 8.16014283406\n",
        "121 8.07804883845\n",
        "122 8.0466142382\n",
        "123 7.99225198012\n",
        "124 7.97214290516\n",
        "125 7.93462442842\n",
        "126 7.90809358546\n",
        "127 7.84420187168\n",
        "128 7.83963119571\n",
        "129 7.80299347593\n",
        "130 7.77927389411\n",
        "131 7.7348716181\n",
        "132 7.66606003321\n",
        "133 7.64130788401\n",
        "134 7.59093156718\n",
        "135 7.57305687728\n",
        "136 7.54132214149\n",
        "137 7.48404266968\n",
        "138 7.4798326075\n",
        "139 7.47133652744\n",
        "140 7.42655525205\n",
        "141 7.37388253566\n",
        "142 7.34993047965\n",
        "143 7.33799651261\n",
        "144 7.31277716945\n",
        "145 7.25712454328\n",
        "146 7.2263381631\n",
        "147 7.2016830815\n",
        "148 7.15956449486\n",
        "149 7.11345806531\n"
       ]
      }
     ],
     "prompt_number": 3
    },
    {
     "cell_type": "code",
     "collapsed": false,
     "input": [
      "eg.doEigengesichter(3)\n"
     ],
     "language": "python",
     "metadata": {},
     "outputs": [
      {
       "metadata": {},
       "output_type": "display_data",
       "png": "[encoded data removed]",
       "text": [
        "<matplotlib.figure.Figure at 0xcb8c5d0>"
       ]
      }
     ],
     "prompt_number": 4
    },
    {
     "cell_type": "code",
     "collapsed": false,
     "input": [
      "eg.doEigengesichter(4)"
     ],
     "language": "python",
     "metadata": {},
     "outputs": [
      {
       "metadata": {},
       "output_type": "display_data",
       "png": "[encoded data removed]",
       "text": [
        "<matplotlib.figure.Figure at 0xc85dcb0>"
       ]
      }
     ],
     "prompt_number": 5
    },
    {
     "cell_type": "code",
     "collapsed": false,
     "input": [
      "eg.doEigengesichter(150)"
     ],
     "language": "python",
     "metadata": {},
     "outputs": [
      {
       "metadata": {},
       "output_type": "display_data",
       "png": "[encoded data removed]",
       "text": [
        "<matplotlib.figure.Figure at 0xc8443b0>"
       ]
      }
     ],
     "prompt_number": 17
    },
    {
     "cell_type": "code",
     "collapsed": false,
     "input": [
      "eg.TestEigengesichter()"
     ],
     "language": "python",
     "metadata": {},
     "outputs": [
      {
       "output_type": "stream",
       "stream": "stdout",
       "text": [
        "(7, 7)\n",
        "(1274, 7)\n",
        "I am NOT correct classified: Ariel_Sharon\n",
        ">> >> I am NOT: George_W_Bush\n",
        "I am NOT correct classified: Colin_Powell\n",
        ">> >> I am NOT: George_W_Bush\n",
        "I am NOT correct classified: Donald_Rumsfeld"
       ]
      },
      {
       "output_type": "stream",
       "stream": "stdout",
       "text": [
        "\n",
        ">> >> I am NOT: George_W_Bush\n",
        "I am correct classified: George_W_Bush\n",
        "I am NOT correct classified: Gerhard_Schroeder\n",
        ">> >> I am NOT: Tony_Blair\n",
        "I am NOT correct classified: Hugo_Chavez\n",
        ">> >> I am NOT: Donald_Rumsfeld\n",
        "I am NOT correct classified: Tony_Blair"
       ]
      },
      {
       "output_type": "stream",
       "stream": "stdout",
       "text": [
        "\n",
        ">> >> I am NOT: George_W_Bush\n"
       ]
      }
     ],
     "prompt_number": 4
    },
    {
     "cell_type": "code",
     "collapsed": false,
     "input": [
      "%version_information numpy pandas"
     ],
     "language": "python",
     "metadata": {},
     "outputs": [
      {
       "html": [
        "<table><tr><th>Software</th><th>Version</th></tr><tr><td>Python</td><td>2.7.6 32bit [MSC v.1500 32 bit (Intel)]</td></tr><tr><td>IPython</td><td>2.1.0</td></tr><tr><td>OS</td><td>Windows 7 6.1.7601 SP1</td></tr><tr><td>numpypandas</td><td>numpypandas</td></tr><tr><td colspan='2'>Wed Nov 05 12:24:59 2014 Mitteleurop\u00e4ische Zeit</td></tr></table>"
       ],
       "json": [
        "{\"Software versions\": [{\"version\": \"2.7.6 32bit [MSC v.1500 32 bit (Intel)]\", \"module\": \"Python\"}, {\"version\": \"2.1.0\", \"module\": \"IPython\"}, {\"version\": \"Windows 7 6.1.7601 SP1\", \"module\": \"OS\"}, {\"version\": \"numpypandas\", \"module\": \"numpypandas\"}]}"
       ],
       "latex": [
        "\\begin{tabular}{|l|l|}\\hline\n",
        "{\\bf Software} & {\\bf Version} \\\\ \\hline\\hline\n",
        "Python & 2.7.6 32bit [MSC v.1500 32 bit (Intel)] \\\\ \\hline\n",
        "IPython & 2.1.0 \\\\ \\hline\n",
        "OS & Windows 7 6.1.7601 SP1 \\\\ \\hline\n",
        "numpypandas & numpypandas \\\\ \\hline\n",
        "\\hline \\multicolumn{2}{|l|}{Wed Nov 05 12:24:59 2014 Mitteleurop\u00e4ische Zeit} \\\\ \\hline\n",
        "\\end{tabular}\n"
       ],
       "metadata": {},
       "output_type": "pyout",
       "prompt_number": 7,
       "text": [
        "Software versions\n",
        "Python 2.7.6 32bit [MSC v.1500 32 bit (Intel)]\n",
        "IPython 2.1.0\n",
        "OS Windows 7 6.1.7601 SP1\n",
        "numpypandas numpypandas\n",
        "Wed Nov 05 12:24:59 2014 Mitteleurop\u00e4ische Zeit"
       ]
      }
     ],
     "prompt_number": 7
    },
    {
     "cell_type": "code",
     "collapsed": false,
     "input": [],
     "language": "python",
     "metadata": {},
     "outputs": []
    }
   ],
   "metadata": {}
  }
 ]
}