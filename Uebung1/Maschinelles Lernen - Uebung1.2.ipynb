{
 "metadata": {
  "name": "",
  "signature": "sha256:0bd4630bc815fb137fa7f662ad5d12e6b7263b3c9b708e2cba3e9b85cf5f716f"
 },
 "nbformat": 3,
 "nbformat_minor": 0,
 "worksheets": [
  {
   "cells": [
    {
     "cell_type": "markdown",
     "metadata": {},
     "source": [
      "#Maschinelles Lernen WS2014\n",
      " - arkostka\n",
      " - maherman\n",
      "\n",
      "## \u00dcbung 1\n",
      "Import ben\u00f6tigter Bibliotheken Numpy, Panda, zipfile, urllib2, os.path und json"
     ]
    },
    {
     "cell_type": "code",
     "collapsed": false,
     "input": [
      "import pandas as pd\n",
      "import numpy as np\n",
      "\n",
      "from zipfile import ZipFile\n",
      "import urllib2\n",
      "import os.path\n",
      "import json as js\n",
      "\n",
      "%install_ext http://raw.github.com/jrjohansson/version_information/master/version_information.py\n",
      "%load_ext version_information"
     ],
     "language": "python",
     "metadata": {},
     "outputs": [
      {
       "output_type": "stream",
       "stream": "stdout",
       "text": [
        "Installed version_information.py. To use it, type:\n",
        "  %load_ext version_information\n"
       ]
      }
     ],
     "prompt_number": 1
    },
    {
     "cell_type": "markdown",
     "metadata": {},
     "source": [
      "## a) Initialisierung der ben\u00f6tigten Daten\n",
      "Download der Daten *Food Nutrient Database* als Zip und entpacken der Zip-Datei. Falls ben\u00f6tigt wird ein Ordner names \"unzipped\" erstellt."
     ]
    },
    {
     "cell_type": "code",
     "collapsed": false,
     "input": [
      "jsonfileName = 'foods-2011-10-03.json'\n",
      "zipfileName = jsonfileName + \".zip\"\n",
      "\n",
      "if not os.path.isfile(zipfileName):\n",
      "    url = \"http://ashleyw.co.uk/files/\" + jsonfileName + \".zip\"\n",
      "    tmp = urllib2.urlopen(url)\n",
      "    dateDownloaded = !date\n",
      "    dateDownloaded[0]\n",
      "    \n",
      "    myZipfile = open(zipfileName,'wb')\n",
      "    myZipfile.write(tmp.read())\n",
      "    myZipfile.close()\n",
      "\n",
      "if not os.path.isdir('unzipped'):\n",
      "    os.mkdir('unzipped')\n",
      "\n",
      "if not os.path.isfile('unzipped/' + jsonfileName):\n",
      "    with ZipFile(zipfileName, \"r\") as z:\n",
      "        z.extractall(\"unzipped\")\n",
      "    "
     ],
     "language": "python",
     "metadata": {},
     "outputs": [],
     "prompt_number": 2
    },
    {
     "cell_type": "markdown",
     "metadata": {},
     "source": [
      "## b) \u00dcberf\u00fchren der JSON-Daten\n",
      "#### 1) Laden der JSON-Daten"
     ]
    },
    {
     "cell_type": "code",
     "collapsed": false,
     "input": [
      "jsonData = js.load(open('unzipped/' + jsonfileName))"
     ],
     "language": "python",
     "metadata": {},
     "outputs": [],
     "prompt_number": 3
    },
    {
     "cell_type": "markdown",
     "metadata": {},
     "source": [
      "Zugriff auf Datenstruktur"
     ]
    },
    {
     "cell_type": "code",
     "collapsed": false,
     "input": [
      "jsonData[0].keys()"
     ],
     "language": "python",
     "metadata": {},
     "outputs": [
      {
       "metadata": {},
       "output_type": "pyout",
       "prompt_number": 4,
       "text": [
        "[u'portions',\n",
        " u'description',\n",
        " u'tags',\n",
        " u'nutrients',\n",
        " u'group',\n",
        " u'id',\n",
        " u'manufacturer']"
       ]
      }
     ],
     "prompt_number": 4
    },
    {
     "cell_type": "markdown",
     "metadata": {},
     "source": [
      "Anzeigen von 1. Inhaltsstoff"
     ]
    },
    {
     "cell_type": "code",
     "collapsed": false,
     "input": [
      "jsonData[0][\"nutrients\"][0]"
     ],
     "language": "python",
     "metadata": {},
     "outputs": [
      {
       "metadata": {},
       "output_type": "pyout",
       "prompt_number": 5,
       "text": [
        "{u'description': u'Protein',\n",
        " u'group': u'Composition',\n",
        " u'units': u'g',\n",
        " u'value': 25.18}"
       ]
      }
     ],
     "prompt_number": 5
    },
    {
     "cell_type": "markdown",
     "metadata": {},
     "source": [
      "Anzeigen von 2. Inhaltsstoff"
     ]
    },
    {
     "cell_type": "code",
     "collapsed": false,
     "input": [
      "jsonData[0][\"nutrients\"][1]"
     ],
     "language": "python",
     "metadata": {},
     "outputs": [
      {
       "metadata": {},
       "output_type": "pyout",
       "prompt_number": 6,
       "text": [
        "{u'description': u'Total lipid (fat)',\n",
        " u'group': u'Composition',\n",
        " u'units': u'g',\n",
        " u'value': 29.2}"
       ]
      }
     ],
     "prompt_number": 6
    },
    {
     "cell_type": "markdown",
     "metadata": {},
     "source": [
      "#### 3.1) Laden der JSON-Daten in einen Pandas DataFrame und Anzeige der ersten 5 Eintr\u00e4ge."
     ]
    },
    {
     "cell_type": "code",
     "collapsed": false,
     "input": [
      "cols = ['id', 'description', 'group', 'manufacturer']\n",
      "info = pd.DataFrame(jsonData, columns=cols)\n",
      "info.head()"
     ],
     "language": "python",
     "metadata": {},
     "outputs": [
      {
       "html": [
        "<div style=\"max-height:1000px;max-width:1500px;overflow:auto;\">\n",
        "<table border=\"1\" class=\"dataframe\">\n",
        "  <thead>\n",
        "    <tr style=\"text-align: right;\">\n",
        "      <th></th>\n",
        "      <th>id</th>\n",
        "      <th>description</th>\n",
        "      <th>group</th>\n",
        "      <th>manufacturer</th>\n",
        "    </tr>\n",
        "  </thead>\n",
        "  <tbody>\n",
        "    <tr>\n",
        "      <th>0</th>\n",
        "      <td> 1008</td>\n",
        "      <td>                    Cheese, caraway</td>\n",
        "      <td> Dairy and Egg Products</td>\n",
        "      <td> </td>\n",
        "    </tr>\n",
        "    <tr>\n",
        "      <th>1</th>\n",
        "      <td> 1009</td>\n",
        "      <td>                    Cheese, cheddar</td>\n",
        "      <td> Dairy and Egg Products</td>\n",
        "      <td> </td>\n",
        "    </tr>\n",
        "    <tr>\n",
        "      <th>2</th>\n",
        "      <td> 1018</td>\n",
        "      <td>                       Cheese, edam</td>\n",
        "      <td> Dairy and Egg Products</td>\n",
        "      <td> </td>\n",
        "    </tr>\n",
        "    <tr>\n",
        "      <th>3</th>\n",
        "      <td> 1019</td>\n",
        "      <td>                       Cheese, feta</td>\n",
        "      <td> Dairy and Egg Products</td>\n",
        "      <td> </td>\n",
        "    </tr>\n",
        "    <tr>\n",
        "      <th>4</th>\n",
        "      <td> 1028</td>\n",
        "      <td> Cheese, mozzarella, part skim milk</td>\n",
        "      <td> Dairy and Egg Products</td>\n",
        "      <td> </td>\n",
        "    </tr>\n",
        "  </tbody>\n",
        "</table>\n",
        "<p>5 rows \u00d7 4 columns</p>\n",
        "</div>"
       ],
       "metadata": {},
       "output_type": "pyout",
       "prompt_number": 7,
       "text": [
        "     id                         description                   group  \\\n",
        "0  1008                     Cheese, caraway  Dairy and Egg Products   \n",
        "1  1009                     Cheese, cheddar  Dairy and Egg Products   \n",
        "2  1018                        Cheese, edam  Dairy and Egg Products   \n",
        "3  1019                        Cheese, feta  Dairy and Egg Products   \n",
        "4  1028  Cheese, mozzarella, part skim milk  Dairy and Egg Products   \n",
        "\n",
        "  manufacturer  \n",
        "0               \n",
        "1               \n",
        "2               \n",
        "3               \n",
        "4               \n",
        "\n",
        "[5 rows x 4 columns]"
       ]
      }
     ],
     "prompt_number": 7
    },
    {
     "cell_type": "markdown",
     "metadata": {},
     "source": [
      "#### 3.2) Erstellung eines *Arrays* bestehend aus einzelnen DataFrames, welche die einzelnen Inhaltsstoffe beinhalten und Anzeige der Inhaltsstoffe des ersten Produkts."
     ]
    },
    {
     "cell_type": "code",
     "collapsed": false,
     "input": [
      "infoNutrients = []\n",
      "tmpCols = [\"value\", \"units\", \"description\", \"group\"]\n",
      "for i in range(len(jsonData)):\n",
      "    df = pd.DataFrame(jsonData[i][\"nutrients\"])\n",
      "    df['id'] = jsonData[i][\"id\"]\n",
      "    infoNutrients.append(df)\n",
      "infoNutrients[0].head()"
     ],
     "language": "python",
     "metadata": {},
     "outputs": [
      {
       "html": [
        "<div style=\"max-height:1000px;max-width:1500px;overflow:auto;\">\n",
        "<table border=\"1\" class=\"dataframe\">\n",
        "  <thead>\n",
        "    <tr style=\"text-align: right;\">\n",
        "      <th></th>\n",
        "      <th>description</th>\n",
        "      <th>group</th>\n",
        "      <th>units</th>\n",
        "      <th>value</th>\n",
        "      <th>id</th>\n",
        "    </tr>\n",
        "  </thead>\n",
        "  <tbody>\n",
        "    <tr>\n",
        "      <th>0</th>\n",
        "      <td>                     Protein</td>\n",
        "      <td> Composition</td>\n",
        "      <td>    g</td>\n",
        "      <td>  25.18</td>\n",
        "      <td> 1008</td>\n",
        "    </tr>\n",
        "    <tr>\n",
        "      <th>1</th>\n",
        "      <td>           Total lipid (fat)</td>\n",
        "      <td> Composition</td>\n",
        "      <td>    g</td>\n",
        "      <td>  29.20</td>\n",
        "      <td> 1008</td>\n",
        "    </tr>\n",
        "    <tr>\n",
        "      <th>2</th>\n",
        "      <td> Carbohydrate, by difference</td>\n",
        "      <td> Composition</td>\n",
        "      <td>    g</td>\n",
        "      <td>   3.06</td>\n",
        "      <td> 1008</td>\n",
        "    </tr>\n",
        "    <tr>\n",
        "      <th>3</th>\n",
        "      <td>                         Ash</td>\n",
        "      <td>       Other</td>\n",
        "      <td>    g</td>\n",
        "      <td>   3.28</td>\n",
        "      <td> 1008</td>\n",
        "    </tr>\n",
        "    <tr>\n",
        "      <th>4</th>\n",
        "      <td>                      Energy</td>\n",
        "      <td>      Energy</td>\n",
        "      <td> kcal</td>\n",
        "      <td> 376.00</td>\n",
        "      <td> 1008</td>\n",
        "    </tr>\n",
        "  </tbody>\n",
        "</table>\n",
        "<p>5 rows \u00d7 5 columns</p>\n",
        "</div>"
       ],
       "metadata": {},
       "output_type": "pyout",
       "prompt_number": 8,
       "text": [
        "                   description        group units   value    id\n",
        "0                      Protein  Composition     g   25.18  1008\n",
        "1            Total lipid (fat)  Composition     g   29.20  1008\n",
        "2  Carbohydrate, by difference  Composition     g    3.06  1008\n",
        "3                          Ash        Other     g    3.28  1008\n",
        "4                       Energy       Energy  kcal  376.00  1008\n",
        "\n",
        "[5 rows x 5 columns]"
       ]
      }
     ],
     "prompt_number": 8
    },
    {
     "cell_type": "code",
     "collapsed": false,
     "input": [
      "len(infoNutrients)"
     ],
     "language": "python",
     "metadata": {},
     "outputs": [
      {
       "metadata": {},
       "output_type": "pyout",
       "prompt_number": 9,
       "text": [
        "6636"
       ]
      }
     ],
     "prompt_number": 9
    },
    {
     "cell_type": "markdown",
     "metadata": {},
     "source": [
      "#### 3.3) Zusammenf\u00fchren der einzelnen DataFrames zu einem gro\u00dfen DataFrame bestehend aus 389355 Eintr\u00e4gen."
     ]
    },
    {
     "cell_type": "code",
     "collapsed": false,
     "input": [
      "infoNutrientsConcat = pd.concat(infoNutrients)\n",
      "len(infoNutrientsConcat)"
     ],
     "language": "python",
     "metadata": {},
     "outputs": [
      {
       "metadata": {},
       "output_type": "pyout",
       "prompt_number": 10,
       "text": [
        "389355"
       ]
      }
     ],
     "prompt_number": 10
    },
    {
     "cell_type": "code",
     "collapsed": false,
     "input": [
      "infoNutrientsConcat.head()"
     ],
     "language": "python",
     "metadata": {},
     "outputs": [
      {
       "html": [
        "<div style=\"max-height:1000px;max-width:1500px;overflow:auto;\">\n",
        "<table border=\"1\" class=\"dataframe\">\n",
        "  <thead>\n",
        "    <tr style=\"text-align: right;\">\n",
        "      <th></th>\n",
        "      <th>description</th>\n",
        "      <th>group</th>\n",
        "      <th>units</th>\n",
        "      <th>value</th>\n",
        "      <th>id</th>\n",
        "    </tr>\n",
        "  </thead>\n",
        "  <tbody>\n",
        "    <tr>\n",
        "      <th>0</th>\n",
        "      <td>                     Protein</td>\n",
        "      <td> Composition</td>\n",
        "      <td>    g</td>\n",
        "      <td>  25.18</td>\n",
        "      <td> 1008</td>\n",
        "    </tr>\n",
        "    <tr>\n",
        "      <th>1</th>\n",
        "      <td>           Total lipid (fat)</td>\n",
        "      <td> Composition</td>\n",
        "      <td>    g</td>\n",
        "      <td>  29.20</td>\n",
        "      <td> 1008</td>\n",
        "    </tr>\n",
        "    <tr>\n",
        "      <th>2</th>\n",
        "      <td> Carbohydrate, by difference</td>\n",
        "      <td> Composition</td>\n",
        "      <td>    g</td>\n",
        "      <td>   3.06</td>\n",
        "      <td> 1008</td>\n",
        "    </tr>\n",
        "    <tr>\n",
        "      <th>3</th>\n",
        "      <td>                         Ash</td>\n",
        "      <td>       Other</td>\n",
        "      <td>    g</td>\n",
        "      <td>   3.28</td>\n",
        "      <td> 1008</td>\n",
        "    </tr>\n",
        "    <tr>\n",
        "      <th>4</th>\n",
        "      <td>                      Energy</td>\n",
        "      <td>      Energy</td>\n",
        "      <td> kcal</td>\n",
        "      <td> 376.00</td>\n",
        "      <td> 1008</td>\n",
        "    </tr>\n",
        "  </tbody>\n",
        "</table>\n",
        "<p>5 rows \u00d7 5 columns</p>\n",
        "</div>"
       ],
       "metadata": {},
       "output_type": "pyout",
       "prompt_number": 11,
       "text": [
        "                   description        group units   value    id\n",
        "0                      Protein  Composition     g   25.18  1008\n",
        "1            Total lipid (fat)  Composition     g   29.20  1008\n",
        "2  Carbohydrate, by difference  Composition     g    3.06  1008\n",
        "3                          Ash        Other     g    3.28  1008\n",
        "4                       Energy       Energy  kcal  376.00  1008\n",
        "\n",
        "[5 rows x 5 columns]"
       ]
      }
     ],
     "prompt_number": 11
    },
    {
     "cell_type": "markdown",
     "metadata": {},
     "source": [
      "#### 3.4) Entfernen der Duplikate aus dem Inhaltsstoffe DataFrame"
     ]
    },
    {
     "cell_type": "code",
     "collapsed": false,
     "input": [
      "infoNutrientsConcatNoDupl = infoNutrientsConcat.drop_duplicates()\n",
      "len(infoNutrientsConcatNoDupl)"
     ],
     "language": "python",
     "metadata": {},
     "outputs": [
      {
       "metadata": {},
       "output_type": "pyout",
       "prompt_number": 12,
       "text": [
        "375176"
       ]
      }
     ],
     "prompt_number": 12
    },
    {
     "cell_type": "markdown",
     "metadata": {},
     "source": [
      "#### 3.5) Umbenennen der Spalten"
     ]
    },
    {
     "cell_type": "code",
     "collapsed": false,
     "input": [
      "infoNutrientsConcatNoDupl.columns = ['nut_description', 'nut_group', 'units' , 'value','id']\n",
      "\n",
      "nutrients = infoNutrientsConcatNoDupl\n",
      "nutrients.head()\n"
     ],
     "language": "python",
     "metadata": {},
     "outputs": [
      {
       "html": [
        "<div style=\"max-height:1000px;max-width:1500px;overflow:auto;\">\n",
        "<table border=\"1\" class=\"dataframe\">\n",
        "  <thead>\n",
        "    <tr style=\"text-align: right;\">\n",
        "      <th></th>\n",
        "      <th>nut_description</th>\n",
        "      <th>nut_group</th>\n",
        "      <th>units</th>\n",
        "      <th>value</th>\n",
        "      <th>id</th>\n",
        "    </tr>\n",
        "  </thead>\n",
        "  <tbody>\n",
        "    <tr>\n",
        "      <th>0</th>\n",
        "      <td>                     Protein</td>\n",
        "      <td> Composition</td>\n",
        "      <td>    g</td>\n",
        "      <td>  25.18</td>\n",
        "      <td> 1008</td>\n",
        "    </tr>\n",
        "    <tr>\n",
        "      <th>1</th>\n",
        "      <td>           Total lipid (fat)</td>\n",
        "      <td> Composition</td>\n",
        "      <td>    g</td>\n",
        "      <td>  29.20</td>\n",
        "      <td> 1008</td>\n",
        "    </tr>\n",
        "    <tr>\n",
        "      <th>2</th>\n",
        "      <td> Carbohydrate, by difference</td>\n",
        "      <td> Composition</td>\n",
        "      <td>    g</td>\n",
        "      <td>   3.06</td>\n",
        "      <td> 1008</td>\n",
        "    </tr>\n",
        "    <tr>\n",
        "      <th>3</th>\n",
        "      <td>                         Ash</td>\n",
        "      <td>       Other</td>\n",
        "      <td>    g</td>\n",
        "      <td>   3.28</td>\n",
        "      <td> 1008</td>\n",
        "    </tr>\n",
        "    <tr>\n",
        "      <th>4</th>\n",
        "      <td>                      Energy</td>\n",
        "      <td>      Energy</td>\n",
        "      <td> kcal</td>\n",
        "      <td> 376.00</td>\n",
        "      <td> 1008</td>\n",
        "    </tr>\n",
        "  </tbody>\n",
        "</table>\n",
        "<p>5 rows \u00d7 5 columns</p>\n",
        "</div>"
       ],
       "metadata": {},
       "output_type": "pyout",
       "prompt_number": 34,
       "text": [
        "               nut_description    nut_group units   value    id\n",
        "0                      Protein  Composition     g   25.18  1008\n",
        "1            Total lipid (fat)  Composition     g   29.20  1008\n",
        "2  Carbohydrate, by difference  Composition     g    3.06  1008\n",
        "3                          Ash        Other     g    3.28  1008\n",
        "4                       Energy       Energy  kcal  376.00  1008\n",
        "\n",
        "[5 rows x 5 columns]"
       ]
      }
     ],
     "prompt_number": 34
    },
    {
     "cell_type": "markdown",
     "metadata": {},
     "source": [
      "#### 4) Zusammenf\u00fchrung der DataFrames via Nahrungsmittel id"
     ]
    },
    {
     "cell_type": "code",
     "collapsed": false,
     "input": [
      "data = pd.merge(nutrients,info,on='id',how='outer')\n",
      "data.head()"
     ],
     "language": "python",
     "metadata": {},
     "outputs": [
      {
       "html": [
        "<div style=\"max-height:1000px;max-width:1500px;overflow:auto;\">\n",
        "<table border=\"1\" class=\"dataframe\">\n",
        "  <thead>\n",
        "    <tr style=\"text-align: right;\">\n",
        "      <th></th>\n",
        "      <th>nut_description</th>\n",
        "      <th>nut_group</th>\n",
        "      <th>units</th>\n",
        "      <th>value</th>\n",
        "      <th>id</th>\n",
        "      <th>description</th>\n",
        "      <th>group</th>\n",
        "      <th>manufacturer</th>\n",
        "    </tr>\n",
        "  </thead>\n",
        "  <tbody>\n",
        "    <tr>\n",
        "      <th>0</th>\n",
        "      <td>                     Protein</td>\n",
        "      <td> Composition</td>\n",
        "      <td>    g</td>\n",
        "      <td>  25.18</td>\n",
        "      <td> 1008</td>\n",
        "      <td> Cheese, caraway</td>\n",
        "      <td> Dairy and Egg Products</td>\n",
        "      <td> </td>\n",
        "    </tr>\n",
        "    <tr>\n",
        "      <th>1</th>\n",
        "      <td>           Total lipid (fat)</td>\n",
        "      <td> Composition</td>\n",
        "      <td>    g</td>\n",
        "      <td>  29.20</td>\n",
        "      <td> 1008</td>\n",
        "      <td> Cheese, caraway</td>\n",
        "      <td> Dairy and Egg Products</td>\n",
        "      <td> </td>\n",
        "    </tr>\n",
        "    <tr>\n",
        "      <th>2</th>\n",
        "      <td> Carbohydrate, by difference</td>\n",
        "      <td> Composition</td>\n",
        "      <td>    g</td>\n",
        "      <td>   3.06</td>\n",
        "      <td> 1008</td>\n",
        "      <td> Cheese, caraway</td>\n",
        "      <td> Dairy and Egg Products</td>\n",
        "      <td> </td>\n",
        "    </tr>\n",
        "    <tr>\n",
        "      <th>3</th>\n",
        "      <td>                         Ash</td>\n",
        "      <td>       Other</td>\n",
        "      <td>    g</td>\n",
        "      <td>   3.28</td>\n",
        "      <td> 1008</td>\n",
        "      <td> Cheese, caraway</td>\n",
        "      <td> Dairy and Egg Products</td>\n",
        "      <td> </td>\n",
        "    </tr>\n",
        "    <tr>\n",
        "      <th>4</th>\n",
        "      <td>                      Energy</td>\n",
        "      <td>      Energy</td>\n",
        "      <td> kcal</td>\n",
        "      <td> 376.00</td>\n",
        "      <td> 1008</td>\n",
        "      <td> Cheese, caraway</td>\n",
        "      <td> Dairy and Egg Products</td>\n",
        "      <td> </td>\n",
        "    </tr>\n",
        "  </tbody>\n",
        "</table>\n",
        "<p>5 rows \u00d7 8 columns</p>\n",
        "</div>"
       ],
       "metadata": {},
       "output_type": "pyout",
       "prompt_number": 14,
       "text": [
        "               nut_description    nut_group units   value    id  \\\n",
        "0                      Protein  Composition     g   25.18  1008   \n",
        "1            Total lipid (fat)  Composition     g   29.20  1008   \n",
        "2  Carbohydrate, by difference  Composition     g    3.06  1008   \n",
        "3                          Ash        Other     g    3.28  1008   \n",
        "4                       Energy       Energy  kcal  376.00  1008   \n",
        "\n",
        "       description                   group manufacturer  \n",
        "0  Cheese, caraway  Dairy and Egg Products               \n",
        "1  Cheese, caraway  Dairy and Egg Products               \n",
        "2  Cheese, caraway  Dairy and Egg Products               \n",
        "3  Cheese, caraway  Dairy and Egg Products               \n",
        "4  Cheese, caraway  Dairy and Egg Products               \n",
        "\n",
        "[5 rows x 8 columns]"
       ]
      }
     ],
     "prompt_number": 14
    },
    {
     "cell_type": "markdown",
     "metadata": {},
     "source": [
      "## c) Untersuchung der Daten auf das Spurenelement Zink \"Zinc, Zn\"\n",
      "#### 1) Extraktion relevanter Daten"
     ]
    },
    {
     "cell_type": "code",
     "collapsed": false,
     "input": [
      "zinkData = data.loc[data['nut_description'] == 'Zinc, Zn']\n",
      "zinkData.head()"
     ],
     "language": "python",
     "metadata": {},
     "outputs": [
      {
       "html": [
        "<div style=\"max-height:1000px;max-width:1500px;overflow:auto;\">\n",
        "<table border=\"1\" class=\"dataframe\">\n",
        "  <thead>\n",
        "    <tr style=\"text-align: right;\">\n",
        "      <th></th>\n",
        "      <th>nut_description</th>\n",
        "      <th>nut_group</th>\n",
        "      <th>units</th>\n",
        "      <th>value</th>\n",
        "      <th>id</th>\n",
        "      <th>description</th>\n",
        "      <th>group</th>\n",
        "      <th>manufacturer</th>\n",
        "    </tr>\n",
        "  </thead>\n",
        "  <tbody>\n",
        "    <tr>\n",
        "      <th>14 </th>\n",
        "      <td> Zinc, Zn</td>\n",
        "      <td> Elements</td>\n",
        "      <td> mg</td>\n",
        "      <td> 2.94</td>\n",
        "      <td> 1008</td>\n",
        "      <td>                    Cheese, caraway</td>\n",
        "      <td> Dairy and Egg Products</td>\n",
        "      <td> </td>\n",
        "    </tr>\n",
        "    <tr>\n",
        "      <th>75 </th>\n",
        "      <td> Zinc, Zn</td>\n",
        "      <td> Elements</td>\n",
        "      <td> mg</td>\n",
        "      <td> 3.11</td>\n",
        "      <td> 1009</td>\n",
        "      <td>                    Cheese, cheddar</td>\n",
        "      <td> Dairy and Egg Products</td>\n",
        "      <td> </td>\n",
        "    </tr>\n",
        "    <tr>\n",
        "      <th>151</th>\n",
        "      <td> Zinc, Zn</td>\n",
        "      <td> Elements</td>\n",
        "      <td> mg</td>\n",
        "      <td> 3.75</td>\n",
        "      <td> 1018</td>\n",
        "      <td>                       Cheese, edam</td>\n",
        "      <td> Dairy and Egg Products</td>\n",
        "      <td> </td>\n",
        "    </tr>\n",
        "    <tr>\n",
        "      <th>222</th>\n",
        "      <td> Zinc, Zn</td>\n",
        "      <td> Elements</td>\n",
        "      <td> mg</td>\n",
        "      <td> 2.88</td>\n",
        "      <td> 1019</td>\n",
        "      <td>                       Cheese, feta</td>\n",
        "      <td> Dairy and Egg Products</td>\n",
        "      <td> </td>\n",
        "    </tr>\n",
        "    <tr>\n",
        "      <th>293</th>\n",
        "      <td> Zinc, Zn</td>\n",
        "      <td> Elements</td>\n",
        "      <td> mg</td>\n",
        "      <td> 2.76</td>\n",
        "      <td> 1028</td>\n",
        "      <td> Cheese, mozzarella, part skim milk</td>\n",
        "      <td> Dairy and Egg Products</td>\n",
        "      <td> </td>\n",
        "    </tr>\n",
        "  </tbody>\n",
        "</table>\n",
        "<p>5 rows \u00d7 8 columns</p>\n",
        "</div>"
       ],
       "metadata": {},
       "output_type": "pyout",
       "prompt_number": 37,
       "text": [
        "    nut_description nut_group units  value    id  \\\n",
        "14         Zinc, Zn  Elements    mg   2.94  1008   \n",
        "75         Zinc, Zn  Elements    mg   3.11  1009   \n",
        "151        Zinc, Zn  Elements    mg   3.75  1018   \n",
        "222        Zinc, Zn  Elements    mg   2.88  1019   \n",
        "293        Zinc, Zn  Elements    mg   2.76  1028   \n",
        "\n",
        "                            description                   group manufacturer  \n",
        "14                      Cheese, caraway  Dairy and Egg Products               \n",
        "75                      Cheese, cheddar  Dairy and Egg Products               \n",
        "151                        Cheese, edam  Dairy and Egg Products               \n",
        "222                        Cheese, feta  Dairy and Egg Products               \n",
        "293  Cheese, mozzarella, part skim milk  Dairy and Egg Products               \n",
        "\n",
        "[5 rows x 8 columns]"
       ]
      }
     ],
     "prompt_number": 37
    },
    {
     "cell_type": "markdown",
     "metadata": {},
     "source": [
      "#### 2) Deskriptive Statistiken zum Zinkgehalt in mg "
     ]
    },
    {
     "cell_type": "code",
     "collapsed": false,
     "input": [
      "pd.DataFrame.hist(zinkData, column=['value'], by=None, grid=True, xlabelsize=None, xrot=None, ylabelsize=None, yrot=None, ax=None, sharex=False, sharey=False, figsize=[10,10], layout=None, bins=100);"
     ],
     "language": "python",
     "metadata": {},
     "outputs": [
      {
       "metadata": {},
       "output_type": "display_data",
       "png": "[encoded data removed]",
       "text": [
        "<matplotlib.figure.Figure at 0x1ac6d690>"
       ]
      }
     ],
     "prompt_number": 16
    },
    {
     "cell_type": "code",
     "collapsed": false,
     "input": [
      "describeZink = zinkData[['value']].describe()\n",
      "describeZink"
     ],
     "language": "python",
     "metadata": {},
     "outputs": [
      {
       "html": [
        "<div style=\"max-height:1000px;max-width:1500px;overflow:auto;\">\n",
        "<table border=\"1\" class=\"dataframe\">\n",
        "  <thead>\n",
        "    <tr style=\"text-align: right;\">\n",
        "      <th></th>\n",
        "      <th>value</th>\n",
        "    </tr>\n",
        "  </thead>\n",
        "  <tbody>\n",
        "    <tr>\n",
        "      <th>count</th>\n",
        "      <td> 6137.000000</td>\n",
        "    </tr>\n",
        "    <tr>\n",
        "      <th>mean</th>\n",
        "      <td>    2.228589</td>\n",
        "    </tr>\n",
        "    <tr>\n",
        "      <th>std</th>\n",
        "      <td>    3.975321</td>\n",
        "    </tr>\n",
        "    <tr>\n",
        "      <th>min</th>\n",
        "      <td>    0.000000</td>\n",
        "    </tr>\n",
        "    <tr>\n",
        "      <th>25%</th>\n",
        "      <td>    0.340000</td>\n",
        "    </tr>\n",
        "    <tr>\n",
        "      <th>50%</th>\n",
        "      <td>    0.980000</td>\n",
        "    </tr>\n",
        "    <tr>\n",
        "      <th>75%</th>\n",
        "      <td>    2.980000</td>\n",
        "    </tr>\n",
        "    <tr>\n",
        "      <th>max</th>\n",
        "      <td>   90.950000</td>\n",
        "    </tr>\n",
        "  </tbody>\n",
        "</table>\n",
        "<p>8 rows \u00d7 1 columns</p>\n",
        "</div>"
       ],
       "metadata": {},
       "output_type": "pyout",
       "prompt_number": 17,
       "text": [
        "             value\n",
        "count  6137.000000\n",
        "mean      2.228589\n",
        "std       3.975321\n",
        "min       0.000000\n",
        "25%       0.340000\n",
        "50%       0.980000\n",
        "75%       2.980000\n",
        "max      90.950000\n",
        "\n",
        "[8 rows x 1 columns]"
       ]
      }
     ],
     "prompt_number": 17
    },
    {
     "cell_type": "markdown",
     "metadata": {},
     "source": [
      "#### 3) Untersuchung von Edamer ('Cheese, edam')"
     ]
    },
    {
     "cell_type": "code",
     "collapsed": false,
     "input": [
      "edamerZink = data.query(\"data.description == 'Cheese, edam' & data.nut_description == 'Zinc, Zn'\")\n",
      "edamerZink.head()"
     ],
     "language": "python",
     "metadata": {},
     "outputs": [
      {
       "html": [
        "<div style=\"max-height:1000px;max-width:1500px;overflow:auto;\">\n",
        "<table border=\"1\" class=\"dataframe\">\n",
        "  <thead>\n",
        "    <tr style=\"text-align: right;\">\n",
        "      <th></th>\n",
        "      <th>nut_description</th>\n",
        "      <th>nut_group</th>\n",
        "      <th>units</th>\n",
        "      <th>value</th>\n",
        "      <th>id</th>\n",
        "      <th>description</th>\n",
        "      <th>group</th>\n",
        "      <th>manufacturer</th>\n",
        "    </tr>\n",
        "  </thead>\n",
        "  <tbody>\n",
        "    <tr>\n",
        "      <th>151</th>\n",
        "      <td> Zinc, Zn</td>\n",
        "      <td> Elements</td>\n",
        "      <td> mg</td>\n",
        "      <td> 3.75</td>\n",
        "      <td> 1018</td>\n",
        "      <td> Cheese, edam</td>\n",
        "      <td> Dairy and Egg Products</td>\n",
        "      <td> </td>\n",
        "    </tr>\n",
        "  </tbody>\n",
        "</table>\n",
        "<p>1 rows \u00d7 8 columns</p>\n",
        "</div>"
       ],
       "metadata": {},
       "output_type": "pyout",
       "prompt_number": 53,
       "text": [
        "    nut_description nut_group units  value    id   description  \\\n",
        "151        Zinc, Zn  Elements    mg   3.75  1018  Cheese, edam   \n",
        "\n",
        "                      group manufacturer  \n",
        "151  Dairy and Egg Products               \n",
        "\n",
        "[1 rows x 8 columns]"
       ]
      }
     ],
     "prompt_number": 53
    },
    {
     "cell_type": "code",
     "collapsed": false,
     "input": [
      "zinkValEdamer = edamerZink['value'].values[0]\n",
      "unit = edamerZink['units'].values[0]\n",
      "print \"Zink in Edamer ist mit \" + str(zinkValEdamer) + \" \" + unit\n",
      "if describeZink.values[1] >  zinkValEdamer:\n",
      "    print \"unterdurchschnittlich\"\n",
      "else:\n",
      "    print \"\u00fcberdurchschnittlich\""
     ],
     "language": "python",
     "metadata": {},
     "outputs": [
      {
       "output_type": "stream",
       "stream": "stdout",
       "text": [
        "Zink in Edamer ist mit 3.75 mg\n",
        "\u00fcberdurchschnittlich\n"
       ]
      }
     ],
     "prompt_number": 55
    },
    {
     "cell_type": "markdown",
     "metadata": {},
     "source": [
      "#### 4) Maximaler Zinkgehalt"
     ]
    },
    {
     "cell_type": "code",
     "collapsed": false,
     "input": [
      "zinkDataSorted = zinkData.sort(columns=['value'], axis=0, ascending=False, inplace=False)\n",
      "zinkDataSorted.iloc[[0]]"
     ],
     "language": "python",
     "metadata": {},
     "outputs": [
      {
       "html": [
        "<div style=\"max-height:1000px;max-width:1500px;overflow:auto;\">\n",
        "<table border=\"1\" class=\"dataframe\">\n",
        "  <thead>\n",
        "    <tr style=\"text-align: right;\">\n",
        "      <th></th>\n",
        "      <th>nut_description</th>\n",
        "      <th>nut_group</th>\n",
        "      <th>units</th>\n",
        "      <th>value</th>\n",
        "      <th>id</th>\n",
        "      <th>description</th>\n",
        "      <th>group</th>\n",
        "      <th>manufacturer</th>\n",
        "    </tr>\n",
        "  </thead>\n",
        "  <tbody>\n",
        "    <tr>\n",
        "      <th>333726</th>\n",
        "      <td> Zinc, Zn</td>\n",
        "      <td> Elements</td>\n",
        "      <td> mg</td>\n",
        "      <td> 90.95</td>\n",
        "      <td> 15170</td>\n",
        "      <td> Mollusks, oyster, eastern, canned</td>\n",
        "      <td> Finfish and Shellfish Products</td>\n",
        "      <td> </td>\n",
        "    </tr>\n",
        "  </tbody>\n",
        "</table>\n",
        "<p>1 rows \u00d7 8 columns</p>\n",
        "</div>"
       ],
       "metadata": {},
       "output_type": "pyout",
       "prompt_number": 63,
       "text": [
        "       nut_description nut_group units  value     id  \\\n",
        "333726        Zinc, Zn  Elements    mg  90.95  15170   \n",
        "\n",
        "                              description                           group  \\\n",
        "333726  Mollusks, oyster, eastern, canned  Finfish and Shellfish Products   \n",
        "\n",
        "       manufacturer  \n",
        "333726               \n",
        "\n",
        "[1 rows x 8 columns]"
       ]
      }
     ],
     "prompt_number": 63
    },
    {
     "cell_type": "markdown",
     "metadata": {},
     "source": [
      "#### 5) Prozentualer Anteil der Lebensmittel mit weniger Zink-Anteil als Edamer\n",
      "Hole Lebensmittel mit einem h\u00f6heren Zinkgehalt als Edamer"
     ]
    },
    {
     "cell_type": "code",
     "collapsed": false,
     "input": [
      "lebensMittelZinkHoeherEdamer = zinkData.loc[zinkData['value'] > zinkValEdamer]\n",
      "len(lebensMittelZinkHoeherEdamer)"
     ],
     "language": "python",
     "metadata": {},
     "outputs": [
      {
       "metadata": {},
       "output_type": "pyout",
       "prompt_number": 72,
       "text": [
        "1183"
       ]
      }
     ],
     "prompt_number": 72
    },
    {
     "cell_type": "markdown",
     "metadata": {},
     "source": [
      "Anzahl aller Lebensmittel"
     ]
    },
    {
     "cell_type": "code",
     "collapsed": false,
     "input": [
      "len(info)"
     ],
     "language": "python",
     "metadata": {},
     "outputs": [
      {
       "metadata": {},
       "output_type": "pyout",
       "prompt_number": 70,
       "text": [
        "6636"
       ]
      }
     ],
     "prompt_number": 70
    },
    {
     "cell_type": "code",
     "collapsed": false,
     "input": [
      "anteilZinkHoeherEdamer =  float(len(lebensMittelZinkHoeherEdamer))/len(info)\n",
      "anteilZinkKleinerEdamer = 1 - anteilZinkHoeherEdamer\n",
      "print \"Haben mehr als 75% der Lebensmittel einen kleineren Zink-Anteil als Edamer? \"\n",
      "if anteilZinkKleinerEdamer > 0.75:\n",
      "   print \"ja\"\n",
      "else:\n",
      "    print \"nein\"\n",
      "\n",
      "print \"Anteil betr\u00e4gt: \" + str(round(anteilZinkKleinerEdamer,4) * 100) + \"%\""
     ],
     "language": "python",
     "metadata": {},
     "outputs": [
      {
       "output_type": "stream",
       "stream": "stdout",
       "text": [
        "Haben mehr als 75% der Lebensmittel einen kleineren Zink-Anteil als Edamer? \n",
        "ja\n",
        "Anteil betr\u00e4gt: 82.17%\n"
       ]
      }
     ],
     "prompt_number": 77
    },
    {
     "cell_type": "code",
     "collapsed": false,
     "input": [
      "%version_information numpy pandas"
     ],
     "language": "python",
     "metadata": {},
     "outputs": [
      {
       "html": [
        "<table><tr><th>Software</th><th>Version</th></tr><tr><td>Python</td><td>2.7.6 32bit [MSC v.1500 32 bit (Intel)]</td></tr><tr><td>IPython</td><td>2.1.0</td></tr><tr><td>OS</td><td>Windows 7 6.1.7601 SP1</td></tr><tr><td>numpypandas</td><td>numpypandas</td></tr><tr><td colspan='2'>Thu Oct 23 10:17:57 2014 Mitteleurop\u00e4ische Sommerzeit</td></tr></table>"
       ],
       "json": [
        "{\"Software versions\": [{\"version\": \"2.7.6 32bit [MSC v.1500 32 bit (Intel)]\", \"module\": \"Python\"}, {\"version\": \"2.1.0\", \"module\": \"IPython\"}, {\"version\": \"Windows 7 6.1.7601 SP1\", \"module\": \"OS\"}, {\"version\": \"numpypandas\", \"module\": \"numpypandas\"}]}"
       ],
       "latex": [
        "\\begin{tabular}{|l|l|}\\hline\n",
        "{\\bf Software} & {\\bf Version} \\\\ \\hline\\hline\n",
        "Python & 2.7.6 32bit [MSC v.1500 32 bit (Intel)] \\\\ \\hline\n",
        "IPython & 2.1.0 \\\\ \\hline\n",
        "OS & Windows 7 6.1.7601 SP1 \\\\ \\hline\n",
        "numpypandas & numpypandas \\\\ \\hline\n",
        "\\hline \\multicolumn{2}{|l|}{Thu Oct 23 10:17:57 2014 Mitteleurop\u00e4ische Sommerzeit} \\\\ \\hline\n",
        "\\end{tabular}\n"
       ],
       "metadata": {},
       "output_type": "pyout",
       "prompt_number": 24,
       "text": [
        "Software versions\n",
        "Python 2.7.6 32bit [MSC v.1500 32 bit (Intel)]\n",
        "IPython 2.1.0\n",
        "OS Windows 7 6.1.7601 SP1\n",
        "numpypandas numpypandas\n",
        "Thu Oct 23 10:17:57 2014 Mitteleurop\u00e4ische Sommerzeit"
       ]
      }
     ],
     "prompt_number": 24
    },
    {
     "cell_type": "code",
     "collapsed": false,
     "input": [],
     "language": "python",
     "metadata": {},
     "outputs": [],
     "prompt_number": 24
    }
   ],
   "metadata": {}
  }
 ]
}